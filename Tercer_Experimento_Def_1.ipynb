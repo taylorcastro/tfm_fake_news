{
  "cells": [
    {
      "cell_type": "markdown",
      "source": [
        "### Fake News Classification Submuestreo"
      ],
      "metadata": {
        "id": "m25zPLAokhEn"
      }
    },
    {
      "cell_type": "code",
      "execution_count": null,
      "metadata": {
        "colab": {
          "base_uri": "https://localhost:8080/"
        },
        "id": "XfP_7klrvu5g",
        "outputId": "ef868bcd-9f5c-4dff-a3db-60727242286f"
      },
      "outputs": [
        {
          "output_type": "stream",
          "name": "stdout",
          "text": [
            "Looking in indexes: https://pypi.org/simple, https://us-python.pkg.dev/colab-wheels/public/simple/\n",
            "Collecting en_core_web_lg==2.2.5\n",
            "  Downloading https://github.com/explosion/spacy-models/releases/download/en_core_web_lg-2.2.5/en_core_web_lg-2.2.5.tar.gz (827.9 MB)\n",
            "\u001b[K     |████████████████████████████████| 827.9 MB 1.1 MB/s \n",
            "\u001b[?25hRequirement already satisfied: spacy>=2.2.2 in /usr/local/lib/python3.7/dist-packages (from en_core_web_lg==2.2.5) (2.2.4)\n",
            "Requirement already satisfied: requests<3.0.0,>=2.13.0 in /usr/local/lib/python3.7/dist-packages (from spacy>=2.2.2->en_core_web_lg==2.2.5) (2.23.0)\n",
            "Requirement already satisfied: cymem<2.1.0,>=2.0.2 in /usr/local/lib/python3.7/dist-packages (from spacy>=2.2.2->en_core_web_lg==2.2.5) (2.0.6)\n",
            "Requirement already satisfied: srsly<1.1.0,>=1.0.2 in /usr/local/lib/python3.7/dist-packages (from spacy>=2.2.2->en_core_web_lg==2.2.5) (1.0.5)\n",
            "Requirement already satisfied: catalogue<1.1.0,>=0.0.7 in /usr/local/lib/python3.7/dist-packages (from spacy>=2.2.2->en_core_web_lg==2.2.5) (1.0.0)\n",
            "Requirement already satisfied: setuptools in /usr/local/lib/python3.7/dist-packages (from spacy>=2.2.2->en_core_web_lg==2.2.5) (57.4.0)\n",
            "Requirement already satisfied: blis<0.5.0,>=0.4.0 in /usr/local/lib/python3.7/dist-packages (from spacy>=2.2.2->en_core_web_lg==2.2.5) (0.4.1)\n",
            "Requirement already satisfied: wasabi<1.1.0,>=0.4.0 in /usr/local/lib/python3.7/dist-packages (from spacy>=2.2.2->en_core_web_lg==2.2.5) (0.9.1)\n",
            "Requirement already satisfied: plac<1.2.0,>=0.9.6 in /usr/local/lib/python3.7/dist-packages (from spacy>=2.2.2->en_core_web_lg==2.2.5) (1.1.3)\n",
            "Requirement already satisfied: murmurhash<1.1.0,>=0.28.0 in /usr/local/lib/python3.7/dist-packages (from spacy>=2.2.2->en_core_web_lg==2.2.5) (1.0.7)\n",
            "Requirement already satisfied: preshed<3.1.0,>=3.0.2 in /usr/local/lib/python3.7/dist-packages (from spacy>=2.2.2->en_core_web_lg==2.2.5) (3.0.6)\n",
            "Requirement already satisfied: tqdm<5.0.0,>=4.38.0 in /usr/local/lib/python3.7/dist-packages (from spacy>=2.2.2->en_core_web_lg==2.2.5) (4.64.0)\n",
            "Requirement already satisfied: thinc==7.4.0 in /usr/local/lib/python3.7/dist-packages (from spacy>=2.2.2->en_core_web_lg==2.2.5) (7.4.0)\n",
            "Requirement already satisfied: numpy>=1.15.0 in /usr/local/lib/python3.7/dist-packages (from spacy>=2.2.2->en_core_web_lg==2.2.5) (1.21.6)\n",
            "Requirement already satisfied: importlib-metadata>=0.20 in /usr/local/lib/python3.7/dist-packages (from catalogue<1.1.0,>=0.0.7->spacy>=2.2.2->en_core_web_lg==2.2.5) (4.11.4)\n",
            "Requirement already satisfied: zipp>=0.5 in /usr/local/lib/python3.7/dist-packages (from importlib-metadata>=0.20->catalogue<1.1.0,>=0.0.7->spacy>=2.2.2->en_core_web_lg==2.2.5) (3.8.0)\n",
            "Requirement already satisfied: typing-extensions>=3.6.4 in /usr/local/lib/python3.7/dist-packages (from importlib-metadata>=0.20->catalogue<1.1.0,>=0.0.7->spacy>=2.2.2->en_core_web_lg==2.2.5) (4.2.0)\n",
            "Requirement already satisfied: urllib3!=1.25.0,!=1.25.1,<1.26,>=1.21.1 in /usr/local/lib/python3.7/dist-packages (from requests<3.0.0,>=2.13.0->spacy>=2.2.2->en_core_web_lg==2.2.5) (1.24.3)\n",
            "Requirement already satisfied: idna<3,>=2.5 in /usr/local/lib/python3.7/dist-packages (from requests<3.0.0,>=2.13.0->spacy>=2.2.2->en_core_web_lg==2.2.5) (2.10)\n",
            "Requirement already satisfied: certifi>=2017.4.17 in /usr/local/lib/python3.7/dist-packages (from requests<3.0.0,>=2.13.0->spacy>=2.2.2->en_core_web_lg==2.2.5) (2022.5.18.1)\n",
            "Requirement already satisfied: chardet<4,>=3.0.2 in /usr/local/lib/python3.7/dist-packages (from requests<3.0.0,>=2.13.0->spacy>=2.2.2->en_core_web_lg==2.2.5) (3.0.4)\n",
            "Building wheels for collected packages: en-core-web-lg\n",
            "  Building wheel for en-core-web-lg (setup.py) ... \u001b[?25l\u001b[?25hdone\n",
            "  Created wheel for en-core-web-lg: filename=en_core_web_lg-2.2.5-py3-none-any.whl size=829180942 sha256=971414aeb1a84ec5c6ec76b58119e6bf0adaf05eb09c4ee9859deb832adbab8e\n",
            "  Stored in directory: /tmp/pip-ephem-wheel-cache-k2hhci8s/wheels/11/95/ba/2c36cc368c0bd339b44a791c2c1881a1fb714b78c29a4cb8f5\n",
            "Successfully built en-core-web-lg\n",
            "Installing collected packages: en-core-web-lg\n",
            "Successfully installed en-core-web-lg-2.2.5\n",
            "\u001b[38;5;2m✔ Download and installation successful\u001b[0m\n",
            "You can now load the model via spacy.load('en_core_web_lg')\n"
          ]
        }
      ],
      "source": [
        "## Load Pkgs\n",
        "import numpy as np\n",
        "import pandas as pd\n",
        "\n",
        "# Load ML Pkgs\n",
        "from sklearn.feature_extraction.text import CountVectorizer, TfidfVectorizer\n",
        "from sklearn.pipeline import Pipeline\n",
        "from sklearn.model_selection import train_test_split\n",
        "from sklearn.base import TransformerMixin \n",
        "from sklearn.ensemble import RandomForestClassifier\n",
        "from sklearn.svm import SVC\n",
        "from sklearn.ensemble import GradientBoostingClassifier\n",
        "from sklearn.metrics import accuracy_score, confusion_matrix, classification_report\n",
        "from sklearn import metrics\n",
        "\n",
        "# spaCy based imports\n",
        "import spacy\n",
        "from spacy.lang.en.stop_words import STOP_WORDS\n",
        "from spacy.lang.en import English\n",
        "!python -m spacy download en_core_web_lg\n",
        "nlp = spacy.load('en')\n",
        "nlp = spacy.load('en_core_web_sm')\n",
        "# Creating a Spacy Parser\n",
        "parser = English()\n",
        "\n",
        "# Use the punctuations of string module\n",
        "import re,string,unicodedata\n",
        "punctuations = string.punctuation\n",
        "from imblearn.under_sampling import RandomUnderSampler\n",
        "\n",
        "# Plotly based imports for visualization\n",
        "import seaborn as sns\n",
        "import matplotlib.pyplot as plt\n",
        "import matplotlib.patches as mpatches\n",
        "from wordcloud import WordCloud"
      ]
    },
    {
      "cell_type": "code",
      "execution_count": null,
      "metadata": {
        "id": "Yi3vnuOIwPPy"
      },
      "outputs": [],
      "source": [
        "#Cargo las BBDD\n",
        "from google.colab import files\n",
        "true = pd.read_csv(\"True.csv\")"
      ]
    },
    {
      "cell_type": "code",
      "execution_count": null,
      "metadata": {
        "id": "ryCb-sqOw_-z"
      },
      "outputs": [],
      "source": [
        "fake = pd.read_csv(\"Fake.csv\")"
      ]
    },
    {
      "cell_type": "code",
      "execution_count": null,
      "metadata": {
        "colab": {
          "base_uri": "https://localhost:8080/"
        },
        "id": "FENB2Cm1xcb4",
        "outputId": "79da7b66-eff9-4f3c-be87-eeddd41b583b"
      },
      "outputs": [
        {
          "output_type": "execute_result",
          "data": {
            "text/plain": [
              "((21417, 4), (23481, 4))"
            ]
          },
          "metadata": {},
          "execution_count": 4
        }
      ],
      "source": [
        "#Observo las categorías\n",
        "true.shape,fake.shape"
      ]
    },
    {
      "cell_type": "code",
      "source": [
        "# Muestra 80-20\n",
        "fake = fake[0:23481]\n",
        "true = true.sample(n=5870, random_state=42)"
      ],
      "metadata": {
        "id": "i_179d59UH0E"
      },
      "execution_count": null,
      "outputs": []
    },
    {
      "cell_type": "code",
      "execution_count": null,
      "metadata": {
        "id": "_FzG5CJrxqTY"
      },
      "outputs": [],
      "source": [
        "#Asigno etiqueta a cada categoría\n",
        "true['category'] = 1\n",
        "fake['category'] = 0\n",
        "\n",
        "df = pd.concat([true,fake])"
      ]
    },
    {
      "cell_type": "code",
      "execution_count": null,
      "metadata": {
        "colab": {
          "base_uri": "https://localhost:8080/"
        },
        "id": "tFt51K20xwKH",
        "outputId": "cdb10697-1bdd-411b-ca9f-46ad45098ff1"
      },
      "outputs": [
        {
          "output_type": "execute_result",
          "data": {
            "text/plain": [
              "(29351, 5)"
            ]
          },
          "metadata": {},
          "execution_count": 7
        }
      ],
      "source": [
        "#Data Frame final\n",
        "df.shape"
      ]
    },
    {
      "cell_type": "code",
      "execution_count": null,
      "metadata": {
        "colab": {
          "base_uri": "https://localhost:8080/",
          "height": 295
        },
        "id": "6cL8_IVYj5rP",
        "outputId": "17e6db74-4607-4206-b1a3-8dcdaa4bf703"
      },
      "outputs": [
        {
          "output_type": "display_data",
          "data": {
            "text/plain": [
              "<Figure size 432x288 with 1 Axes>"
            ],
            "image/png": "[encoded data removed]"
          },
          "metadata": {
            "needs_background": "light"
          }
        }
      ],
      "source": [
        "#Grafico para ver la distribución\n",
        "plt.figure(figsize=(6,4))\n",
        "ax = sns.countplot(x=\"category\", data=df)\n",
        "plt.title('Distribución 80%-20% de la base de datos. Experimento 3 Balanceo') \n",
        "ax.set_xticklabels(['Fake','Real'], rotation=0)\n",
        "color = [\"Red\", \"Green\"] \n",
        "sns.set_palette(color)\n",
        "plt.show()"
      ]
    },
    {
      "cell_type": "code",
      "execution_count": null,
      "metadata": {
        "id": "SjTjILcegfHg"
      },
      "outputs": [],
      "source": [
        "#Eliminación de caracteres especiales y puntuación\n",
        "df['text'] = df['text'].apply(lambda x: re.sub('[^a-z A-Z 0-9-]+', '', x))"
      ]
    },
    {
      "cell_type": "code",
      "execution_count": null,
      "metadata": {
        "id": "DupW16-ffJ2l"
      },
      "outputs": [],
      "source": [
        "contractions = {\n",
        "\"aight\": \"alright\",\"ain't\": \"am not\",\"amn't\": \"am not\",\"aren't\": \"are not\",\n",
        "\"can't\": \"can not\",\"cause\": \"because\",\"could've\": \"could have\",\n",
        "\"couldn't\": \"could not\",\"couldn't've\": \"could not have\",\"daren't\": \"dare not\",\n",
        "\"daren't\": \"dared not\",\"daresn't\": \"dare not\",\"dasn't\": \"dare not\",\n",
        "\"didn't\": \"did not\",\"doesn't\": \"does not\",\"don't\": \"do not\",\"don't\": \"does not\",\n",
        "\"d'ye\": \"do you\",\"d'ye\": \"did you\",\"e'er\": \"ever\",\"everybody's\": \"everybody is\",\n",
        "\"everyone's\": \"everyone is\",\"finna\": \"fixing to\",\"finna\": \"going to\",\n",
        "\"g'day\": \"good day\",\"gimme\": \"give me\",\"giv'n\": \"given\",\"gonna\": \"going to\",\n",
        "\"gon't\": \"go not\",\"gotta\": \"got to\",\"hadn't\": \"had not\",\"had've\": \"had have\",\n",
        "\"hasn't\": \"has not\",\"haven't\": \"have not\",\"he'd\": \"he had\",\"he'd\": \"he would\",\n",
        "\"he'dn't've'd\": \"he would not have had\",\"he'll\": \"he shall\",\n",
        "\"he'll\": \"he will\",\"he's\": \"he has\",\"he's\": \"he is\",\"he've\": \"he have\",\n",
        "\"how'd\": \"how did\",\"how'd\": \"how would\",\"howdy\": \"how do you do\",\n",
        "\"howdy\": \"how do you fare\",\"how'll\": \"how will\",\"how're\": \"how are\",\n",
        "\"I'll\": \"I shall\",\"I'll\": \"I will\",\"I'm\": \"I am\",\"I'm'a\": \"I am about to\",\n",
        "\"I'm'o\": \"I am going to\",\"innit\": \"is it not\",\"I've\": \"I have\",\n",
        "\"isn't\": \"is not\",\"it'd\": \"it would\",\"it'll\": \"it shall\",\"it'll\": \"it will\",\n",
        "\"it's\": \"it has\",\"it's\": \"it is\",\"let's\": \"let us\",\"ma'am\": \"madam\",\n",
        "\"mayn't\": \"may not\",\"may've\": \"may have\",\"methinks\": \"me thinks\",\n",
        "\"mightn't\": \"might not\",\"might've\": \"might have\",\"mustn't\": \"must not\",\n",
        "\"mustn't've\": \"must not have\",\"must've\": \"must have\",\"needn't\": \"need not\",\n",
        "\"ne'er\": \"never\",\"o'clock\": \"of the clock\",\"o'er\": \"over\",\"ol'\": \"old\",\n",
        "\"oughtn't\": \"ought not\",\"'s\": \"is, has, does, or us\",\"shalln't\": \"shall not\",\n",
        "\"shan't\": \"shall not\",\"she'd\": \"she had\",\"she'd\": \"she would\",\n",
        "\"she'll\": \"she shall\",\"she'll\": \"she will\",\"she's\": \"she has\",\"she's\": \"she is\",\n",
        "\"should've\": \"should have\",\"shouldn't\": \"should not\",\n",
        "\"shouldn't've\": \"should not have\",\"somebody's\": \"somebody has\",\n",
        "\"somebody's\": \"somebody is\",\"someone's\": \"someone has\",\n",
        "\"someone's\": \"someone is\",\"something's\": \"something has\",\n",
        "\"something's\": \"something is\",\"so're\": \"so are\",\"that'll\": \"that shall\",\n",
        "\"that'll\": \"that will\",\"that're\": \"that are\",\"that's\": \"that has\",\n",
        "\"that's\": \"that is\",\"that'd\": \"that would\",\"that'd\": \"that had\",\n",
        "\"there'd\": \"there had\",\"there'd\": \"there would\",\"there'll\": \"there shall\",\n",
        "\"there'll\": \"there will\",\"there're\": \"there are\",\"there's\": \"there has\",\n",
        "\"there's\": \"there is\",\"these're\": \"these are\",\"these've\": \"these have\",\n",
        "\"they'd\": \"they had\",\"they'd\": \"they would\",\"they'll\": \"they shall\",\n",
        "\"they'll\": \"they will\",\"they're\": \"they are\",\"they're\": \"they were\",\n",
        "\"they've\": \"they have\",\"this's\": \"this has\",\"this's\": \"this is\",\n",
        "\"those're\": \"those are\",\"those've\": \"those have\",\"'tis\": \"it is\",\n",
        "\"to've\": \"to have\",\"'twas\": \"it was\",\"wanna\": \"want to\",\"wasn't\": \"was not\",\n",
        "\"we'd\": \"we had\",\"we'd\": \"we would\",\"we'd\": \"we did\",\"we'll\": \"we shall\",\n",
        "\"we'll\": \"we will\",\"we're\": \"we are\",\"we've\": \"we have\",\"weren't\": \"were not\",\n",
        "\"what'd\": \"what did\",\"what'll\": \"what shall\",\"what'll\": \"what will\",\n",
        "\"what're\": \"what are\",\"what're\": \"what were\",\"what's\": \"what has\",\n",
        "\"what's\": \"what is\",\"what's\": \"what does\",\"what've\": \"what have\",\n",
        "\"when's\": \"when has\",\"when's\": \"when is\",\"where'd\": \"where did\",\n",
        "\"where'll\": \"where shall\",\"where'll\": \"where will\",\"where're\": \"where are\",\n",
        "\"where's\": \"where has\",\"where's\": \"where is\",\"where's\": \"where does\",\n",
        "\"where've\": \"where have\",\"which'd\": \"which had\",\"which'd\": \"which would\",\n",
        "\"which'll\": \"which shall\",\"which'll\": \"which will\",\"which're\": \"which are\",\n",
        "\"which's\": \"which has\",\"which's\": \"which is\",\"which've\": \"which have\",\n",
        "\"who'd\": \"who would\",\"who'd\": \"who had\",\"who'd\": \"who did\",\n",
        "\"who'd've\": \"who would have\",\"who'll\": \"who shall\",\"who'll\": \"who will\",\n",
        "\"who're\": \"who are\",\"who's\": \"who has\",\"who's\": \"who is\",\n",
        "\"who's\": \"who does\",\"who've\": \"who have\",\"why'd\": \"why did\",\n",
        "\"why're\": \"why are\",\"why's\": \"why has\",\"why's\": \"why is\",\"why's\": \"why does\",\n",
        "\"won't\": \"will not\",\"would've\": \"would have\",\"wouldn't\": \"would not\",\n",
        "\"wouldn't've\": \"would not have\",\"y'all\": \"you all\",\n",
        "\"y'all'd've\": \"you all would have\",\n",
        "\"y'all'dn't've'd\": \"you all would not have had\",\"y'all're\": \"you all are\",\n",
        "\"you'd\": \"you had\",\"you'd\": \"you would\",\"you'll\": \"you shall\",\n",
        "\"you'll\": \"you will\",\"you're\": \"you are\",\"you're\": \"you are\",\n",
        "\"you've\": \"you have\",\" u \": \"you\",\" ur \": \"your\",\" n \": \"and\"\n",
        "}"
      ]
    },
    {
      "cell_type": "code",
      "execution_count": null,
      "metadata": {
        "id": "s9ORQcNXgMwy"
      },
      "outputs": [],
      "source": [
        "def cont_to_exp(x):\n",
        "    if type(x) is str:\n",
        "        for key in contractions:\n",
        "            value = contractions[key]\n",
        "            x = x.replace(key,value)\n",
        "        return x\n",
        "    else:\n",
        "        return x"
      ]
    },
    {
      "cell_type": "code",
      "execution_count": null,
      "metadata": {
        "id": "IZT-UHx8nK8V"
      },
      "outputs": [],
      "source": [
        "# Construyo la lista de stopwords para filtrar\n",
        "stopwords = list(STOP_WORDS)"
      ]
    },
    {
      "cell_type": "code",
      "execution_count": null,
      "metadata": {
        "id": "BRkjGBaWnRp7"
      },
      "outputs": [],
      "source": [
        "##Extracción de características\n",
        "def spacy_tokenizer(sentence):\n",
        "    mytokens = parser(sentence)\n",
        "    mytokens = [ word.lemma_.lower().strip() if word.lemma_ != \"-PRON-\" else word.lower_ for word in mytokens ]\n",
        "    mytokens = [ word for word in mytokens if word not in stopwords and word not in punctuations ]\n",
        "    return mytokens"
      ]
    },
    {
      "cell_type": "code",
      "execution_count": null,
      "metadata": {
        "id": "ogjqdT48nX_W"
      },
      "outputs": [],
      "source": [
        "#Transformador personalizado usando spaCy\n",
        "class predictors(TransformerMixin):\n",
        "    def transform(self, X, **transform_params):\n",
        "        return [clean_text(text) for text in X]\n",
        "    def fit(self, X, y=None, **fit_params):\n",
        "        return self\n",
        "    def get_params(self, deep=True):\n",
        "        return {}"
      ]
    },
    {
      "cell_type": "code",
      "execution_count": null,
      "metadata": {
        "id": "kVisna-onau2"
      },
      "outputs": [],
      "source": [
        "# Función básica para limpiar el texto\n",
        "def clean_text(text):     \n",
        "    return text.strip().lower()"
      ]
    },
    {
      "cell_type": "code",
      "execution_count": null,
      "metadata": {
        "id": "eS-qarwinduu"
      },
      "outputs": [],
      "source": [
        "# Vectorización \n",
        "vectorizer = CountVectorizer(tokenizer = spacy_tokenizer, ngram_range=(1,1)) \n",
        "classifier = SVC() #por defecto el rbf= radial\n"
      ]
    },
    {
      "cell_type": "code",
      "execution_count": null,
      "metadata": {
        "id": "iBUTSXGlno_S"
      },
      "outputs": [],
      "source": [
        "###### División de conjuntos de datos\n",
        "# Características y etiquetas\n",
        "x = df['text']\n",
        "ylabels = df['category']\n",
        "x_train, x_test, y_train, y_test = train_test_split(x, ylabels, test_size=0.2, random_state=42)\n",
        "#####\n",
        "x_train_vector = vectorizer.fit_transform(x_train)\n",
        "x_test_vector = vectorizer.transform(x_test)"
      ]
    },
    {
      "cell_type": "code",
      "execution_count": null,
      "metadata": {
        "id": "IzMZSp2Onxpl"
      },
      "outputs": [],
      "source": [
        "# Cree la canalización para limpiar, tokenizar, vectorizar y clasifica\n",
        "pipe = Pipeline([(\"cleaner\", predictors()),\n",
        "                 ('vectorizer', vectorizer),\n",
        "                 ('classifier', classifier)])"
      ]
    },
    {
      "cell_type": "code",
      "execution_count": null,
      "metadata": {
        "colab": {
          "base_uri": "https://localhost:8080/"
        },
        "id": "B1Zb5Br7n3jH",
        "outputId": "719e6ed9-4627-4a45-8453-4d8e3db58e4b"
      },
      "outputs": [
        {
          "output_type": "execute_result",
          "data": {
            "text/plain": [
              "Pipeline(steps=[('cleaner', <__main__.predictors object at 0x7fce3dbd0cd0>),\n",
              "                ('vectorizer',\n",
              "                 CountVectorizer(tokenizer=<function spacy_tokenizer at 0x7fce41ca3e60>)),\n",
              "                ('classifier', SVC())])"
            ]
          },
          "metadata": {},
          "execution_count": 20
        }
      ],
      "source": [
        "#Ajustar los datos\n",
        "pipe.fit(x_train, y_train)"
      ]
    },
    {
      "cell_type": "markdown",
      "metadata": {
        "id": "ginarpJVQ88f"
      },
      "source": [
        "### SUBMUESTREO RUS RandomUnderSampler"
      ]
    },
    {
      "cell_type": "code",
      "execution_count": null,
      "metadata": {
        "id": "DH9ImrPvIWuP"
      },
      "outputs": [],
      "source": [
        "# Importo el paquete\n",
        "# Inicio métdos de submuestreo\n",
        "rus = RandomUnderSampler(random_state=42)\n",
        "x_res, y_res = rus.fit_resample(x_train_vector, y_train)"
      ]
    },
    {
      "cell_type": "code",
      "execution_count": null,
      "metadata": {
        "colab": {
          "base_uri": "https://localhost:8080/"
        },
        "id": "0iA5Qx9oJARG",
        "outputId": "e6368e3f-eab1-4cdf-8452-d09683665b29"
      },
      "outputs": [
        {
          "output_type": "execute_result",
          "data": {
            "text/plain": [
              "array([4742, 4742])"
            ]
          },
          "metadata": {},
          "execution_count": 24
        }
      ],
      "source": [
        "np.bincount(y_res)"
      ]
    },
    {
      "cell_type": "code",
      "source": [
        "\n",
        "pd.Series(y_res).value_counts().plot(kind='bar', title='Distribución despues de Submuestreo', color= ['red','green'])\n",
        "ax = sns.countplot(y_res, data=df)\n",
        "ax.set_xticklabels(['Fake','Real'], rotation=0)\n"
      ],
      "metadata": {
        "colab": {
          "base_uri": "https://localhost:8080/",
          "height": 367
        },
        "id": "Q8NbrOcueOTK",
        "outputId": "b393d732-d2d3-4dea-ef8d-54faf69090f3"
      },
      "execution_count": null,
      "outputs": [
        {
          "output_type": "stream",
          "name": "stderr",
          "text": [
            "/usr/local/lib/python3.7/dist-packages/seaborn/_decorators.py:43: FutureWarning: Pass the following variable as a keyword arg: x. From version 0.12, the only valid positional argument will be `data`, and passing other arguments without an explicit keyword will result in an error or misinterpretation.\n",
            "  FutureWarning\n"
          ]
        },
        {
          "output_type": "execute_result",
          "data": {
            "text/plain": [
              "[Text(0, 0, 'Fake'), Text(0, 0, 'Real')]"
            ]
          },
          "metadata": {},
          "execution_count": 37
        },
        {
          "output_type": "display_data",
          "data": {
            "text/plain": [
              "<Figure size 432x288 with 1 Axes>"
            ],
            "image/png": "[encoded data removed]"
          },
          "metadata": {
            "needs_background": "light"
          }
        }
      ]
    },
    {
      "cell_type": "code",
      "source": [
        "R = y_res.sum()\n",
        "F = x_res.shape[0]- R\n",
        "print(R, F)"
      ],
      "metadata": {
        "colab": {
          "base_uri": "https://localhost:8080/"
        },
        "id": "xnQpxrjWsOnC",
        "outputId": "c1579546-f118-4720-b07e-31e8612f4445"
      },
      "execution_count": null,
      "outputs": [
        {
          "output_type": "stream",
          "name": "stdout",
          "text": [
            "4742 4742\n"
          ]
        }
      ]
    },
    {
      "cell_type": "code",
      "execution_count": null,
      "metadata": {
        "id": "g6ZKnjp3q8yb",
        "colab": {
          "base_uri": "https://localhost:8080/"
        },
        "outputId": "fd7b720e-c9d7-4cd7-cb7d-d5ea719b2b99"
      },
      "outputs": [
        {
          "output_type": "stream",
          "name": "stdout",
          "text": [
            "Accuracy Score Random Forest: 0.977005620848237\n",
            "              precision    recall  f1-score   support\n",
            "\n",
            "           0       1.00      0.97      0.99      4743\n",
            "           1       0.90      0.99      0.94      1128\n",
            "\n",
            "    accuracy                           0.98      5871\n",
            "   macro avg       0.95      0.98      0.96      5871\n",
            "weighted avg       0.98      0.98      0.98      5871\n",
            "\n"
          ]
        }
      ],
      "source": [
        "# SMOTE Random Forest\n",
        "rfc = RandomForestClassifier(random_state = 42)\n",
        "#Fitting the training data\n",
        "rfc.fit(x_res, y_res)\n",
        "#Predicting on test\n",
        "y_pred_rfc=rfc.predict(x_test_vector)\n",
        "print(\"Accuracy Score Random Forest:\",rfc.score(x_test_vector, y_test))\n",
        "print(classification_report(y_test, y_pred_rfc))\n",
        "\n"
      ]
    },
    {
      "cell_type": "code",
      "source": [
        "plt.figure(figsize=(5,4))\n",
        "sns.heatmap(confusion_matrix(y_test, y_pred_rfc),cmap= \"Greens\", linecolor = 'black' , linewidth = 1 , annot = True, fmt='' , xticklabels = ['Fake','True'] , yticklabels = ['Fake','True']);"
      ],
      "metadata": {
        "colab": {
          "base_uri": "https://localhost:8080/",
          "height": 265
        },
        "id": "l8tydoccmAFz",
        "outputId": "9ad96e96-87c9-4358-d4f7-a2834b80b864"
      },
      "execution_count": null,
      "outputs": [
        {
          "output_type": "display_data",
          "data": {
            "text/plain": [
              "<Figure size 360x288 with 2 Axes>"
            ],
            "image/png": "[encoded data removed]"
          },
          "metadata": {
            "needs_background": "light"
          }
        }
      ]
    },
    {
      "cell_type": "code",
      "source": [
        "\n",
        "fpr, tpr, _ = metrics.roc_curve(y_test,  y_pred_rfc)\n",
        "auc = metrics.roc_auc_score(y_test, y_pred_rfc)\n",
        "plt.plot(fpr,tpr,label=\"data, auc=\"+str(auc), color=(\"green\"))\n",
        "plt.legend(loc=4)\n",
        "plt.show()"
      ],
      "metadata": {
        "colab": {
          "base_uri": "https://localhost:8080/",
          "height": 265
        },
        "id": "zDGIBoY9mi3P",
        "outputId": "b79106dc-ac20-4378-ba20-54a286628b7b"
      },
      "execution_count": null,
      "outputs": [
        {
          "output_type": "display_data",
          "data": {
            "text/plain": [
              "<Figure size 432x288 with 1 Axes>"
            ],
            "image/png": "[encoded data removed]"
          },
          "metadata": {
            "needs_background": "light"
          }
        }
      ]
    },
    {
      "cell_type": "code",
      "source": [
        ""
      ],
      "metadata": {
        "id": "ennveQr7ggyR"
      },
      "execution_count": null,
      "outputs": []
    },
    {
      "cell_type": "code",
      "execution_count": null,
      "metadata": {
        "id": "SZCEFbbDqcpR",
        "colab": {
          "base_uri": "https://localhost:8080/"
        },
        "outputId": "bac54a61-e84a-4e08-dc7f-3d302651c104"
      },
      "outputs": [
        {
          "output_type": "stream",
          "name": "stdout",
          "text": [
            "Accuracy Score SVC: 0.9935275080906149\n",
            "              precision    recall  f1-score   support\n",
            "\n",
            "           0       1.00      0.99      1.00      4743\n",
            "           1       0.97      1.00      0.98      1128\n",
            "\n",
            "    accuracy                           0.99      5871\n",
            "   macro avg       0.98      1.00      0.99      5871\n",
            "weighted avg       0.99      0.99      0.99      5871\n",
            "\n"
          ]
        }
      ],
      "source": [
        "### Suport Vector Machine\n",
        "#Fitting the training data\n",
        "svc = SVC(kernel='linear', random_state = 42)\n",
        "svc.fit(x_res, y_res)\n",
        "#Predicting on test\n",
        "y_pred_svc=svc.predict(x_test_vector)\n",
        "print(\"Accuracy Score SVC:\",svc.score(x_test_vector, y_test))\n",
        "print(classification_report(y_test, y_pred_svc))"
      ]
    },
    {
      "cell_type": "code",
      "source": [
        "plt.figure(figsize=(5,4))\n",
        "sns.heatmap(confusion_matrix(y_test, y_pred_svc),cmap= \"Greens\", linecolor = 'black' , linewidth = 1 , annot = True, fmt='' , xticklabels = ['Fake','True'] , yticklabels = ['Fake','True']);"
      ],
      "metadata": {
        "colab": {
          "base_uri": "https://localhost:8080/",
          "height": 265
        },
        "id": "o88NuRyouWo-",
        "outputId": "3ed6a154-f6fb-459e-978e-179438df51f9"
      },
      "execution_count": null,
      "outputs": [
        {
          "output_type": "display_data",
          "data": {
            "text/plain": [
              "<Figure size 360x288 with 2 Axes>"
            ],
            "image/png": "[encoded data removed]"
          },
          "metadata": {
            "needs_background": "light"
          }
        }
      ]
    },
    {
      "cell_type": "code",
      "source": [
        "fpr, tpr, _ = metrics.roc_curve(y_test,  y_pred_svc)\n",
        "auc = metrics.roc_auc_score(y_test, y_pred_svc)\n",
        "plt.plot(fpr,tpr,label=\"data, auc=\"+str(auc), color=(\"green\"))\n",
        "plt.legend(loc=4)\n",
        "plt.show()"
      ],
      "metadata": {
        "colab": {
          "base_uri": "https://localhost:8080/",
          "height": 265
        },
        "id": "nsRbreR9uiCN",
        "outputId": "ffde7c28-a1f2-4a4e-9603-6450e1bfe836"
      },
      "execution_count": null,
      "outputs": [
        {
          "output_type": "display_data",
          "data": {
            "text/plain": [
              "<Figure size 432x288 with 1 Axes>"
            ],
            "image/png": "[encoded data removed]"
          },
          "metadata": {
            "needs_background": "light"
          }
        }
      ]
    },
    {
      "cell_type": "code",
      "execution_count": null,
      "metadata": {
        "colab": {
          "base_uri": "https://localhost:8080/"
        },
        "id": "heyxkSjdKG9b",
        "outputId": "dd2be359-a5f3-4bf2-eb2c-8a8f544d797d"
      },
      "outputs": [
        {
          "output_type": "stream",
          "name": "stdout",
          "text": [
            "Accuracy Score Gradient Boosting: 0.9921648782149549\n",
            "              precision    recall  f1-score   support\n",
            "\n",
            "           0       1.00      0.99      1.00      4743\n",
            "           1       0.96      1.00      0.98      1128\n",
            "\n",
            "    accuracy                           0.99      5871\n",
            "   macro avg       0.98      0.99      0.99      5871\n",
            "weighted avg       0.99      0.99      0.99      5871\n",
            "\n"
          ]
        }
      ],
      "source": [
        "##Gradient boosting\n",
        "gbc = GradientBoostingClassifier(random_state = 42)\n",
        "#Fitting the training data\n",
        "gbc.fit(x_res, y_res)\n",
        "#Predicting on test\n",
        "y_pred_gbc=gbc.predict(x_test_vector)\n",
        "print(\"Accuracy Score Gradient Boosting:\",gbc.score(x_test_vector, y_test))\n",
        "print(classification_report(y_test, y_pred_gbc))"
      ]
    },
    {
      "cell_type": "code",
      "source": [
        "plt.figure(figsize=(5,4))\n",
        "sns.heatmap(confusion_matrix(y_test, y_pred_gbc),cmap= \"Greens\", linecolor = 'black' , linewidth = 1 , annot = True, fmt='' , xticklabels = ['Fake','True'] , yticklabels = ['Fake','True']);"
      ],
      "metadata": {
        "colab": {
          "base_uri": "https://localhost:8080/",
          "height": 265
        },
        "id": "SjFSGQmHrRfI",
        "outputId": "bd0aa243-7a3a-4e10-b0f6-185bab892d5d"
      },
      "execution_count": null,
      "outputs": [
        {
          "output_type": "display_data",
          "data": {
            "text/plain": [
              "<Figure size 360x288 with 2 Axes>"
            ],
            "image/png": "[encoded data removed]"
          },
          "metadata": {
            "needs_background": "light"
          }
        }
      ]
    },
    {
      "cell_type": "code",
      "source": [
        "fpr, tpr, _ = metrics.roc_curve(y_test,  y_pred_gbc)\n",
        "auc = metrics.roc_auc_score(y_test, y_pred_gbc)\n",
        "plt.plot(fpr,tpr,label=\"data, auc=\"+str(auc), color=(\"green\"))\n",
        "plt.legend(loc=4)\n",
        "plt.show()"
      ],
      "metadata": {
        "colab": {
          "base_uri": "https://localhost:8080/",
          "height": 265
        },
        "id": "viUID7llrnFW",
        "outputId": "2443bb07-1d34-4dc2-f098-7420950d56ac"
      },
      "execution_count": null,
      "outputs": [
        {
          "output_type": "display_data",
          "data": {
            "text/plain": [
              "<Figure size 432x288 with 1 Axes>"
            ],
            "image/png": "[encoded data removed]"
          },
          "metadata": {
            "needs_background": "light"
          }
        }
      ]
    }
  ],
  "metadata": {
    "colab": {
      "collapsed_sections": [],
      "machine_shape": "hm",
      "name": "Tercer Experimento Def.1",
      "provenance": []
    },
    "kernelspec": {
      "display_name": "Python 3",
      "name": "python3"
    },
    "language_info": {
      "name": "python"
    }
  },
  "nbformat": 4,
  "nbformat_minor": 0
}